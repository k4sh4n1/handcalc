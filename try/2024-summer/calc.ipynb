{
 "cells": [
  {
   "cell_type": "code",
   "execution_count": 30,
   "id": "c4e2d9d1-091b-4a25-a318-44fda80bcf91",
   "metadata": {},
   "outputs": [],
   "source": [
    "import handcalcs.render\n",
    "import forallpeople\n",
    "forallpeople.environment('structural', top_level=True)\n",
    "from sympy import *"
   ]
  },
  {
   "cell_type": "markdown",
   "id": "d6902aed-9351-4a7d-97ae-f5c63b7d18d8",
   "metadata": {},
   "source": [
    "# 2024 summer exam"
   ]
  },
  {
   "cell_type": "markdown",
   "id": "76dc7f8a-177d-44a9-975a-dbed1dacb3b3",
   "metadata": {},
   "source": [
    "![1](./media/1.png)"
   ]
  },
  {
   "cell_type": "code",
   "execution_count": 31,
   "id": "4b6a4dcf-338f-432d-8968-32380556dfe5",
   "metadata": {},
   "outputs": [
    {
     "data": {
      "text/latex": [
       "\\[\n",
       "\\begin{aligned}\n",
       "\\theta_{A} &= \\theta_{A} \\; \n",
       "\\\\[10pt]\n",
       "L &= L \\; \n",
       "\\\\[10pt]\n",
       "\\Delta_{B} &= \\theta_{A} \\cdot 2 \\cdot L  = \\theta_{A} \\cdot 2 \\cdot L &= 2 L \\theta_{A}  \n",
       "\\end{aligned}\n",
       "\\]"
      ],
      "text/plain": [
       "<IPython.core.display.Latex object>"
      ]
     },
     "metadata": {},
     "output_type": "display_data"
    }
   ],
   "source": [
    "%%render sympy\n",
    "theta_A\n",
    "L\n",
    "Delta_B = theta_A * 2 * L"
   ]
  },
  {
   "cell_type": "code",
   "execution_count": null,
   "id": "a9741f3f-0179-4e6a-940a-5381bcd4dd39",
   "metadata": {},
   "outputs": [],
   "source": []
  }
 ],
 "metadata": {
  "kernelspec": {
   "display_name": "Python 3 (ipykernel)",
   "language": "python",
   "name": "python3"
  },
  "language_info": {
   "codemirror_mode": {
    "name": "ipython",
    "version": 3
   },
   "file_extension": ".py",
   "mimetype": "text/x-python",
   "name": "python",
   "nbconvert_exporter": "python",
   "pygments_lexer": "ipython3",
   "version": "3.12.0"
  }
 },
 "nbformat": 4,
 "nbformat_minor": 5
}
