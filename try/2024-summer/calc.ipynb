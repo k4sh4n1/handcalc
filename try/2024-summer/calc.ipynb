{
 "cells": [
  {
   "cell_type": "code",
   "execution_count": 3,
   "id": "c4e2d9d1-091b-4a25-a318-44fda80bcf91",
   "metadata": {},
   "outputs": [],
   "source": [
    "import handcalcs.render\n",
    "import forallpeople\n",
    "forallpeople.environment('structural', top_level=True)"
   ]
  },
  {
   "cell_type": "markdown",
   "id": "d6902aed-9351-4a7d-97ae-f5c63b7d18d8",
   "metadata": {},
   "source": [
    "# 2024 summer exam"
   ]
  },
  {
   "cell_type": "markdown",
   "id": "76dc7f8a-177d-44a9-975a-dbed1dacb3b3",
   "metadata": {},
   "source": [
    "![1](./media/1.png)"
   ]
  },
  {
   "cell_type": "code",
   "execution_count": 15,
   "id": "4b6a4dcf-338f-432d-8968-32380556dfe5",
   "metadata": {},
   "outputs": [
    {
     "data": {
      "text/latex": [
       "\\[\n",
       "\\begin{aligned}\n",
       "\\theta &= 0 \\; \n",
       "\\\\[10pt]\n",
       "l &= 1 \\; \n",
       "\\\\[10pt]\n",
       "\\Delta_{B} &= \\theta \\cdot 2 \\cdot l  = 0 \\cdot 2 \\cdot 1 &= 0  \n",
       "\\end{aligned}\n",
       "\\]"
      ],
      "text/plain": [
       "<IPython.core.display.Latex object>"
      ]
     },
     "metadata": {},
     "output_type": "display_data"
    }
   ],
   "source": [
    "%%render\n",
    "theta = 0\n",
    "l = 1\n",
    "Delta_B = theta * 2 * l"
   ]
  },
  {
   "cell_type": "code",
   "execution_count": null,
   "id": "8dd6725a-df32-43af-8d31-88d4a4a626bc",
   "metadata": {},
   "outputs": [],
   "source": []
  },
  {
   "cell_type": "code",
   "execution_count": null,
   "id": "882ddfef-744c-4959-b1f3-dc91399e4aa2",
   "metadata": {},
   "outputs": [],
   "source": []
  }
 ],
 "metadata": {
  "kernelspec": {
   "display_name": "Python 3 (ipykernel)",
   "language": "python",
   "name": "python3"
  },
  "language_info": {
   "codemirror_mode": {
    "name": "ipython",
    "version": 3
   },
   "file_extension": ".py",
   "mimetype": "text/x-python",
   "name": "python",
   "nbconvert_exporter": "python",
   "pygments_lexer": "ipython3",
   "version": "3.12.0"
  }
 },
 "nbformat": 4,
 "nbformat_minor": 5
}
