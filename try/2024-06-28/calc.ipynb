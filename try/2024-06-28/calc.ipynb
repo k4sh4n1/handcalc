{
 "cells": [
  {
   "cell_type": "code",
   "execution_count": 170,
   "id": "e74fd871-52a3-42c1-8197-d138a5e98ed1",
   "metadata": {},
   "outputs": [],
   "source": [
    "import handcalcs.render\n",
    "import forallpeople\n",
    "forallpeople.environment('structural', top_level=True)"
   ]
  },
  {
   "cell_type": "markdown",
   "id": "f1912b42-f1b2-47af-ba95-169fd6e1b9e3",
   "metadata": {},
   "source": [
    "# Material properties"
   ]
  },
  {
   "cell_type": "markdown",
   "id": "bc53fbba-c05c-4501-8eb0-18aad5c27c69",
   "metadata": {},
   "source": [
    "Concrete is at least C20 and steel rebar is exactly S420 grade."
   ]
  },
  {
   "cell_type": "markdown",
   "id": "57b29e58-3a2a-4643-b32f-5d0138a8020b",
   "metadata": {},
   "source": [
    "# Plan\n",
    "\n",
    "![Plan](./media/plan.svg)\n",
    "\n",
    "# Type\n",
    "\n",
    "![Type](./media/type.svg)\n",
    "\n",
    "# Beam\n",
    "\n",
    "![Beam](./media/beam.svg)\n",
    "\n",
    "# Internal beam\n",
    "\n",
    "![External beam](./media/type-beam-int.svg)\n",
    "\n",
    "# External beam\n",
    "\n",
    "![Internal beam](./media/type-beam-ext.svg)\n",
    "\n",
    "# Beam rebar\n",
    "\n",
    "![Beam rebar: long](./media/beam-rebar.svg)\n",
    "\n",
    "# Beam rebar\n",
    "\n",
    "![Beam rebar: tra](./media/beam-rebar-tra.svg)\n",
    "\n",
    "# Beam-to-column connection\n",
    "\n",
    "![Connection](./media/connection.svg)"
   ]
  },
  {
   "cell_type": "markdown",
   "id": "789aaed2-fc17-4cc8-a0c3-d08bfc0f22bd",
   "metadata": {},
   "source": [
    "# Definitions"
   ]
  },
  {
   "cell_type": "code",
   "execution_count": 171,
   "id": "9f2f40f7-2654-49d5-ae3f-0920debad44c",
   "metadata": {},
   "outputs": [
    {
     "data": {
      "text/latex": [
       "\\[\n",
       "\\begin{aligned}\n",
       "\\mathrm{density}_{rebar} &= 7850.000\\ \\mathrm{kg} \\cdot \\mathrm{m}^{-3} \\; \n",
       "\\\\[10pt]\n",
       "\\mathrm{cover} &= 50.000\\ \\mathrm{mm} \\; \n",
       "\\\\[10pt]\n",
       "\\mathrm{beam}_{width} &= 400.000\\ \\mathrm{mm} \\; \n",
       "\\\\[10pt]\n",
       "\\mathrm{beam}_{height_{internal}} &= 300.000\\ \\mathrm{mm} \\; \n",
       "\\\\[10pt]\n",
       "\\mathrm{beam}_{height_{external}} &= 500.000\\ \\mathrm{mm} \\; \n",
       "\\\\[10pt]\n",
       "\\mathrm{column}_{dim} &= 450.000\\ \\mathrm{mm} \\; \\;\\textrm{(Column has the same size in both dimensions)}\n",
       "\\\\[10pt]\n",
       "\\mathrm{beam}_{length} &= 5.000\\ \\mathrm{m} \\; \n",
       "\\\\[10pt]\n",
       "\\mathrm{column}_{length} &= 4.000\\ \\mathrm{m} \\; \n",
       "\\end{aligned}\n",
       "\\]"
      ],
      "text/plain": [
       "<IPython.core.display.Latex object>"
      ]
     },
     "metadata": {},
     "output_type": "display_data"
    }
   ],
   "source": [
    "%%render\n",
    "density_rebar = (7850*kg/m**3)\n",
    "cover = (50*mm)\n",
    "beam_width = (400*mm)\n",
    "beam_height_internal = (300*mm)\n",
    "beam_height_external = (500*mm)\n",
    "column_dim = (450*mm) # Column has the same size in both dimensions\n",
    "beam_length = (5000*mm)\n",
    "column_length = (4000*mm)\n",
    "\n"
   ]
  },
  {
   "cell_type": "markdown",
   "id": "288e94ab-a4e3-4892-b98c-57c6d920a994",
   "metadata": {},
   "source": [
    "# Beam: internal: longitudinal rebar"
   ]
  },
  {
   "cell_type": "code",
   "execution_count": 172,
   "id": "caf1b373-b67f-4559-a0e4-62ac09e1a54e",
   "metadata": {},
   "outputs": [
    {
     "data": {
      "text/latex": [
       "\\[\n",
       "\\begin{aligned}\n",
       "A_{side} &= \\left( 1841 \\cdot \\left( \\mathrm{mm} \\right) ^{ 2 } \\right) + \\left( 506 \\cdot \\left( \\mathrm{mm} \\right) ^{ 2 } \\right) \\\\&= \\left( 1841 \\cdot \\left( mm \\right) ^{ 2 } \\right) + \\left( 506 \\cdot \\left( mm \\right) ^{ 2 } \\right) \\\\&= 2347.000\\ \\mathrm{mm}^{2} \\; \\;\\textrm{(top + bottom)}\\\\[10pt]\n",
       "\\\\[10pt]\n",
       "A_{mid} &= \\left( 371 \\cdot \\left( \\mathrm{mm} \\right) ^{ 2 } \\right) + \\left( 1170 \\cdot \\left( \\mathrm{mm} \\right) ^{ 2 } \\right) \\\\&= \\left( 371 \\cdot \\left( mm \\right) ^{ 2 } \\right) + \\left( 1170 \\cdot \\left( mm \\right) ^{ 2 } \\right) \\\\&= 1541.000\\ \\mathrm{mm}^{2} \\; \\;\\textrm{(top + bottom)}\\\\[10pt]\n",
       "\\\\[10pt]\n",
       "l_{side} &= \\frac{ 2 }{ 3 } \\cdot \\mathrm{beam}_{length}  = \\frac{ 2 }{ 3 } \\cdot 5.000\\ \\mathrm{m} &= 3.333\\ \\mathrm{m}  \n",
       "\\\\[10pt]\n",
       "l_{mid} &= \\frac{ 1 }{ 3 } \\cdot \\mathrm{beam}_{length}  = \\frac{ 1 }{ 3 } \\cdot 5.000\\ \\mathrm{m} &= 1.667\\ \\mathrm{m}  \n",
       "\\\\[10pt]\n",
       "\\mathrm{count} &= 4 \\; \n",
       "\\\\[10pt]\n",
       "v_{il} &= \\mathrm{count} \\cdot \\left( A_{side} \\cdot l_{side} + A_{mid} \\cdot l_{mid} \\right) \\\\&= 4 \\cdot \\left( 2347.000\\ \\mathrm{mm}^{2} \\cdot 3.333\\ \\mathrm{m} + 1541.000\\ \\mathrm{mm}^{2} \\cdot 1.667\\ \\mathrm{m} \\right) \\\\&= 41566666.667\\ \\mathrm{mm}^{3}  \\\\[10pt]\n",
       "\\end{aligned}\n",
       "\\]"
      ],
      "text/plain": [
       "<IPython.core.display.Latex object>"
      ]
     },
     "metadata": {},
     "output_type": "display_data"
    }
   ],
   "source": [
    "%%render\n",
    "A_side = (1841*mm**2) + (506*mm**2) # top + bottom\n",
    "A_mid = (371*mm**2) + (1170*mm**2) # top + bottom\n",
    "\n",
    "l_side = 2/3*beam_length\n",
    "l_mid = 1/3*beam_length\n",
    "\n",
    "count = 4\n",
    "\n",
    "v_il = count*(A_side*l_side+A_mid*l_mid)"
   ]
  },
  {
   "cell_type": "markdown",
   "id": "1f665c43-3b2a-4ea0-8697-ef369a07cd70",
   "metadata": {},
   "source": [
    "# Beam: external: longitudinal rebar"
   ]
  },
  {
   "cell_type": "code",
   "execution_count": 173,
   "id": "a265cb44-58dd-4292-a51b-5ca85e5008b8",
   "metadata": {},
   "outputs": [
    {
     "data": {
      "text/latex": [
       "\\[\n",
       "\\begin{aligned}\n",
       "A_{side} &= \\left( 1231 \\cdot \\left( \\mathrm{mm} \\right) ^{ 2 } \\right) + \\left( 840 \\cdot \\left( \\mathrm{mm} \\right) ^{ 2 } \\right) \\\\&= \\left( 1231 \\cdot \\left( mm \\right) ^{ 2 } \\right) + \\left( 840 \\cdot \\left( mm \\right) ^{ 2 } \\right) \\\\&= 2071.000\\ \\mathrm{mm}^{2} \\; \\;\\textrm{(top + bottom)}\\\\[10pt]\n",
       "\\\\[10pt]\n",
       "A_{mid} &= \\left( 840 \\cdot \\left( \\mathrm{mm} \\right) ^{ 2 } \\right) + \\left( 840 \\cdot \\left( \\mathrm{mm} \\right) ^{ 2 } \\right) \\\\&= \\left( 840 \\cdot \\left( mm \\right) ^{ 2 } \\right) + \\left( 840 \\cdot \\left( mm \\right) ^{ 2 } \\right) \\\\&= 1680.000\\ \\mathrm{mm}^{2} \\; \\;\\textrm{(top + bottom)}\\\\[10pt]\n",
       "\\\\[10pt]\n",
       "l_{side} &= \\mathrm{beam}_{length} \\cdot \\frac{ 2 }{ 3 }  = 5.000\\ \\mathrm{m} \\cdot \\frac{ 2 }{ 3 } &= 3.333\\ \\mathrm{m}  \n",
       "\\\\[10pt]\n",
       "l_{mid} &= \\mathrm{beam}_{length} \\cdot \\frac{ 1 }{ 3 }  = 5.000\\ \\mathrm{m} \\cdot \\frac{ 1 }{ 3 } &= 1.667\\ \\mathrm{m}  \n",
       "\\\\[10pt]\n",
       "\\mathrm{count} &= 8 \\; \n",
       "\\\\[10pt]\n",
       "v_{xl} &= \\mathrm{count} \\cdot \\left( l_{side} \\cdot A_{side} + l_{mid} \\cdot A_{mid} \\right) \\\\&= 8 \\cdot \\left( 3.333\\ \\mathrm{m} \\cdot 2071.000\\ \\mathrm{mm}^{2} + 1.667\\ \\mathrm{m} \\cdot 1680.000\\ \\mathrm{mm}^{2} \\right) \\\\&= 77626666.667\\ \\mathrm{mm}^{3}  \\\\[10pt]\n",
       "\\end{aligned}\n",
       "\\]"
      ],
      "text/plain": [
       "<IPython.core.display.Latex object>"
      ]
     },
     "metadata": {},
     "output_type": "display_data"
    }
   ],
   "source": [
    "%%render\n",
    "\n",
    "A_side = (1231*mm**2) + (840*mm**2) # top + bottom\n",
    "A_mid = (840*mm**2) + (840*mm**2) # top + bottom\n",
    "\n",
    "l_side = beam_length * 2/3\n",
    "l_mid = beam_length * 1/3\n",
    "\n",
    "count = 8\n",
    "\n",
    "v_xl = count * (l_side*A_side+l_mid*A_mid)"
   ]
  },
  {
   "cell_type": "markdown",
   "id": "a8d4b147-898f-4416-8951-0ba060ec9946",
   "metadata": {},
   "source": [
    "# Beam: internal: transverse rebar"
   ]
  },
  {
   "cell_type": "code",
   "execution_count": 174,
   "id": "19af81c9-0374-4965-acb8-ac65b06ff415",
   "metadata": {},
   "outputs": [
    {
     "data": {
      "text/latex": [
       "\\[\n",
       "\\begin{aligned}\n",
       "A_{T10} &= \\frac{ 3.1415 }{ 4 } \\cdot \\left( 10 \\cdot \\mathrm{mm} \\right) ^{ 2 }  = \\frac{ 3.1415 }{ 4 } \\cdot \\left( 10 \\cdot mm \\right) ^{ 2 } &= 78.538\\ \\mathrm{mm}^{2}  \n",
       "\\\\[10pt]\n",
       "l &= \\left( \\mathrm{beam}_{width} - 2 \\cdot \\mathrm{cover} \\right) \\cdot 2 + \\left( \\mathrm{beam}_{height_{internal}} - 2 \\cdot \\mathrm{cover} \\right) \\cdot 2 + 2 \\cdot 75 \\\\&= \\left( 400.000\\ \\mathrm{mm} - 2 \\cdot 50.000\\ \\mathrm{mm} \\right) \\cdot 2 + \\left( 300.000\\ \\mathrm{mm} - 2 \\cdot 50.000\\ \\mathrm{mm} \\right) \\cdot 2 + 2 \\cdot 75 \\\\&= 151.000\\ \\mathrm{m}  \\\\[10pt]\n",
       "\\\\[10pt]\n",
       "v &= l \\cdot A_{T10}  = 151.000\\ \\mathrm{m} \\cdot 78.538\\ \\mathrm{mm}^{2} &= 11859162.500\\ \\mathrm{mm}^{3} \\; \\;\\textrm{(For a single transverse rebar)}\n",
       "\\\\[10pt]\n",
       "d &= 120.000\\ \\mathrm{mm} \\; \n",
       "\\\\[10pt]\n",
       "v_{noncritical} &= \\frac{ v }{ d }  = \\frac{ 11859162.500\\ \\mathrm{mm}^{3} }{ 120.000\\ \\mathrm{mm} } &= 98826.354\\ \\mathrm{mm}^{2}  \n",
       "\\\\[10pt]\n",
       "v_{critical} &= \\frac{ v }{ \\frac{ d }{ 2 } }  = \\frac{ 11859162.500\\ \\mathrm{mm}^{3} }{ \\frac{ 120.000\\ \\mathrm{mm} }{ 2 } } &= 197652.708\\ \\mathrm{mm}^{2}  \n",
       "\\\\[10pt]\n",
       "l_{critical} &= 2 \\cdot \\mathrm{beam}_{height_{internal}}  = 2 \\cdot 300.000\\ \\mathrm{mm} &= 600.000\\ \\mathrm{mm}  \n",
       "\\\\[10pt]\n",
       "l_{noncritical} &= \\mathrm{beam}_{length} - 2 \\cdot l_{critical}  = 5.000\\ \\mathrm{m} - 2 \\cdot 600.000\\ \\mathrm{mm} &= 3.800\\ \\mathrm{m}  \n",
       "\\\\[10pt]\n",
       "\\mathrm{count} &= 4 \\; \n",
       "\\\\[10pt]\n",
       "v_{it} &= \\mathrm{count} \\cdot \\left( l_{critical} \\cdot v_{critical} + l_{noncritical} \\cdot v_{noncritical} \\right) \\\\&= 4 \\cdot \\left( 600.000\\ \\mathrm{mm} \\cdot 197652.708\\ \\mathrm{mm}^{2} + 3.800\\ \\mathrm{m} \\cdot 98826.354\\ \\mathrm{mm}^{2} \\right) \\\\&= 1.977\\ \\mathrm{m}^{3}  \\\\[10pt]\n",
       "\\end{aligned}\n",
       "\\]"
      ],
      "text/plain": [
       "<IPython.core.display.Latex object>"
      ]
     },
     "metadata": {},
     "output_type": "display_data"
    }
   ],
   "source": [
    "%%render\n",
    "A_T10 = 3.1415/4*(10*mm)**2\n",
    "l = (beam_width-2*cover)*2+(beam_height_internal-2*cover)*2 + 2*75\n",
    "v = l*A_T10 # For a single transverse rebar\n",
    "d = (120*mm)\n",
    "v_noncritical = v / d\n",
    "v_critical = v / (d/2)\n",
    "l_critical = 2 * beam_height_internal\n",
    "l_noncritical = beam_length - 2*l_critical\n",
    "count = 4\n",
    "v_it = count*(l_critical*v_critical+l_noncritical*v_noncritical)\n"
   ]
  },
  {
   "cell_type": "markdown",
   "id": "c8df4119-53e7-4fda-aef5-0d7612fdfe13",
   "metadata": {},
   "source": [
    "# Beam: external: transverse rebar"
   ]
  },
  {
   "cell_type": "code",
   "execution_count": 175,
   "id": "42706fb2-a664-45e7-ab1f-661c5d2d1e4d",
   "metadata": {},
   "outputs": [
    {
     "data": {
      "text/latex": [
       "\\[\n",
       "\\begin{aligned}\n",
       "A_{T10} &= \\frac{ 3.1415 }{ 4 } \\cdot \\left( 10 \\cdot \\mathrm{mm} \\right) ^{ 2 }  = \\frac{ 3.1415 }{ 4 } \\cdot \\left( 10 \\cdot mm \\right) ^{ 2 } &= 78.538\\ \\mathrm{mm}^{2}  \n",
       "\\\\[10pt]\n",
       "l &= \\left( \\mathrm{beam}_{width} - 2 \\cdot \\mathrm{cover} \\right) \\cdot 2 + \\left( \\mathrm{beam}_{height_{external}} - 2 \\cdot \\mathrm{cover} \\right) \\cdot 2 + 2 \\cdot 75 \\\\&= \\left( 400.000\\ \\mathrm{mm} - 2 \\cdot 50.000\\ \\mathrm{mm} \\right) \\cdot 2 + \\left( 500.000\\ \\mathrm{mm} - 2 \\cdot 50.000\\ \\mathrm{mm} \\right) \\cdot 2 + 2 \\cdot 75 \\\\&= 151.400\\ \\mathrm{m}  \\\\[10pt]\n",
       "\\\\[10pt]\n",
       "v &= 11890577.500\\ \\mathrm{mm}^{3} \\; \\;\\textrm{(For a single transverse rebar)}\n",
       "\\\\[10pt]\n",
       "d &= 200.000\\ \\mathrm{mm} \\; \n",
       "\\\\[10pt]\n",
       "v_{noncritical} &= 59452.888\\ \\mathrm{mm}^{2} \\; \n",
       "\\\\[10pt]\n",
       "v_{critical} &= 118905.775\\ \\mathrm{mm}^{2} \\; \n",
       "\\\\[10pt]\n",
       "l_{critical} &= 2 \\cdot \\mathrm{beam}_{height_{external}}  = 2 \\cdot 500.000\\ \\mathrm{mm} &= 1.000\\ \\mathrm{m}  \n",
       "\\\\[10pt]\n",
       "l_{noncritical} &= 3.000\\ \\mathrm{m} \\; \n",
       "\\\\[10pt]\n",
       "\\mathrm{count} &= 8 \\; \n",
       "\\\\[10pt]\n",
       "v_{xt} &= \\mathrm{count} \\cdot \\left( l_{critical} \\cdot v_{critical} + l_{noncritical} \\cdot v_{noncritical} \\right) \\\\&= 8 \\cdot \\left( 1.000\\ \\mathrm{m} \\cdot 118905.775\\ \\mathrm{mm}^{2} + 3.000\\ \\mathrm{m} \\cdot 59452.888\\ \\mathrm{mm}^{2} \\right) \\\\&= 2.378\\ \\mathrm{m}^{3}  \\\\[10pt]\n",
       "\\end{aligned}\n",
       "\\]"
      ],
      "text/plain": [
       "<IPython.core.display.Latex object>"
      ]
     },
     "metadata": {},
     "output_type": "display_data"
    }
   ],
   "source": [
    "%%render\n",
    "A_T10 = 3.1415/4*(10*mm)**2\n",
    "l = (beam_width-2*cover)*2+(beam_height_external-2*cover)*2 + 2*75\n",
    "v=l*A_T10 # For a single transverse rebar\n",
    "d = (200*mm)\n",
    "v_noncritical=v/d\n",
    "v_critical=v/(d/2)\n",
    "l_critical = 2*beam_height_external\n",
    "l_noncritical=beam_length-2*l_critical\n",
    "count = 8\n",
    "v_xt = count*(l_critical*v_critical+l_noncritical*v_noncritical)"
   ]
  },
  {
   "cell_type": "markdown",
   "id": "8349648f-670c-4a69-8642-cda9966ce8a7",
   "metadata": {},
   "source": [
    "# Beam total rebar"
   ]
  },
  {
   "cell_type": "code",
   "execution_count": 176,
   "id": "09fd3134-c655-41a7-a759-6ffd6caa4c3a",
   "metadata": {},
   "outputs": [
    {
     "data": {
      "text/latex": [
       "\\[\n",
       "\\begin{aligned}\n",
       "v_{beam} &= v_{il} + v_{xl} + v_{it} + v_{xt}  = 41566666.667\\ \\mathrm{mm}^{3} + 77626666.667\\ \\mathrm{mm}^{3} + 1.977\\ \\mathrm{m}^{3} + 2.378\\ \\mathrm{m}^{3} &= 4.474\\ \\mathrm{m}^{3}  \n",
       "\\end{aligned}\n",
       "\\]"
      ],
      "text/plain": [
       "<IPython.core.display.Latex object>"
      ]
     },
     "metadata": {},
     "output_type": "display_data"
    }
   ],
   "source": [
    "%%render\n",
    "v_beam = v_il + v_xl + v_it + v_xt"
   ]
  },
  {
   "cell_type": "markdown",
   "id": "8747b092-4e39-4e10-898e-13cf3aa91408",
   "metadata": {},
   "source": [
    "# Column\n",
    "\n",
    "![Column](./media/column.svg)\n",
    "\n",
    "![Section](./media/section.svg)\n",
    "\n",
    "![Column table](./media/column-table.svg)\n",
    "\n",
    "![Column type](./media/column-type.svg)\n",
    "\n",
    "![Column rebar](./media/column-rebar.svg)"
   ]
  },
  {
   "cell_type": "markdown",
   "id": "42e4c924-3deb-4226-b394-56c258036f65",
   "metadata": {},
   "source": [
    "# Column: 45-1: longitudinal rebar"
   ]
  }
 ],
 "metadata": {
  "kernelspec": {
   "display_name": "Python 3 (ipykernel)",
   "language": "python",
   "name": "python3"
  },
  "language_info": {
   "codemirror_mode": {
    "name": "ipython",
    "version": 3
   },
   "file_extension": ".py",
   "mimetype": "text/x-python",
   "name": "python",
   "nbconvert_exporter": "python",
   "pygments_lexer": "ipython3",
   "version": "3.12.0"
  }
 },
 "nbformat": 4,
 "nbformat_minor": 5
}
