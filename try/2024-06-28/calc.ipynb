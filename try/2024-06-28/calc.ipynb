{
 "cells": [
  {
   "cell_type": "code",
   "execution_count": 1,
   "id": "e74fd871-52a3-42c1-8197-d138a5e98ed1",
   "metadata": {},
   "outputs": [],
   "source": [
    "import handcalcs.render\n",
    "import forallpeople\n",
    "forallpeople.environment('structural', top_level=True)"
   ]
  },
  {
   "cell_type": "markdown",
   "id": "57b29e58-3a2a-4643-b32f-5d0138a8020b",
   "metadata": {},
   "source": [
    "# Plan\n",
    "\n",
    "![Plan](./media/plan.svg)\n",
    "\n",
    "# Type\n",
    "\n",
    "![Type](./media/type.svg)\n",
    "\n",
    "# Beam\n",
    "\n",
    "![Beam](./media/beam.svg)\n",
    "\n",
    "# External beam\n",
    "\n",
    "![Beam](./media/type-beam-int.svg)\n",
    "\n",
    "# Internal beam\n",
    "\n",
    "![Beam](./media/type-beam-ext.svg)\n",
    "\n",
    "# Beam rebar: longitudinal\n",
    "\n",
    "![Beam](./media/beam-rebar.svg)\n",
    "\n",
    "# Beam rebar: transverse\n",
    "\n",
    "![Beam rebar tra](./media/beam-rebar-tra.svg)"
   ]
  },
  {
   "cell_type": "markdown",
   "id": "a8d4b147-898f-4416-8951-0ba060ec9946",
   "metadata": {},
   "source": [
    "# External beam: sides"
   ]
  },
  {
   "cell_type": "code",
   "execution_count": 2,
   "id": "19af81c9-0374-4965-acb8-ac65b06ff415",
   "metadata": {},
   "outputs": [
    {
     "data": {
      "text/latex": [
       "\\[\n",
       "\\begin{aligned}\n",
       "A_{top} &= 1841.000\\ \\mathrm{mm}^{2} \\; \n",
       "\\\\[10pt]\n",
       "A_{bot} &= 506.000\\ \\mathrm{mm}^{2} \\; \n",
       "\\\\[10pt]\n",
       "D &= 16.000\\ \\mathrm{mm} \\; \n",
       "\\\\[10pt]\n",
       "\\mathrm{AD} &= \\frac{ 3.1415 }{ 4 } \\cdot \\left( D \\right) ^{ 2 }  = \\frac{ 3.1415 }{ 4 } \\cdot \\left( 16.000\\ \\mathrm{mm} \\right) ^{ 2 } &= 201.056\\ \\mathrm{mm}^{2}  \n",
       "\\\\[10pt]\n",
       "N_{top} &= \\frac{ A_{top} }{ \\mathrm{AD} }  = \\frac{ 1841.000\\ \\mathrm{mm}^{2} }{ 201.056\\ \\mathrm{mm}^{2} } &= 9.157  \n",
       "\\\\[10pt]\n",
       "N_{bot} &= \\frac{ A_{bot} }{ \\mathrm{AD} }  = \\frac{ 506.000\\ \\mathrm{mm}^{2} }{ 201.056\\ \\mathrm{mm}^{2} } &= 2.517  \n",
       "\\end{aligned}\n",
       "\\]"
      ],
      "text/plain": [
       "<IPython.core.display.Latex object>"
      ]
     },
     "metadata": {},
     "output_type": "display_data"
    }
   ],
   "source": [
    "%%render\n",
    "A_top = (1841*mm**2)\n",
    "A_bot = (506*mm**2)\n",
    "D = (16*mm)\n",
    "AD = 3.1415 / 4 * D**2\n",
    "N_top = A_top / AD\n",
    "N_bot = A_bot / AD"
   ]
  },
  {
   "cell_type": "markdown",
   "id": "d797b715-2245-45bb-b896-0f72efaabfc0",
   "metadata": {},
   "source": [
    "# External beam: middle"
   ]
  },
  {
   "cell_type": "code",
   "execution_count": 3,
   "id": "1f43b754-abf5-468e-a167-695d3a695a8b",
   "metadata": {},
   "outputs": [
    {
     "data": {
      "text/latex": [
       "\\[\n",
       "\\begin{aligned}\n",
       "A_{top} &= 371.000\\ \\mathrm{mm}^{2} \\; \n",
       "\\\\[10pt]\n",
       "A_{bot} &= 1170.000\\ \\mathrm{mm}^{2} \\; \n",
       "\\\\[10pt]\n",
       "N_{top} &= \\frac{ A_{top} }{ \\mathrm{AD} }  = \\frac{ 371.000\\ \\mathrm{mm}^{2} }{ 201.056\\ \\mathrm{mm}^{2} } &= 1.845  \n",
       "\\\\[10pt]\n",
       "N_{bot} &= \\frac{ A_{bot} }{ \\mathrm{AD} }  = \\frac{ 1170.000\\ \\mathrm{mm}^{2} }{ 201.056\\ \\mathrm{mm}^{2} } &= 5.819  \n",
       "\\end{aligned}\n",
       "\\]"
      ],
      "text/plain": [
       "<IPython.core.display.Latex object>"
      ]
     },
     "metadata": {},
     "output_type": "display_data"
    }
   ],
   "source": [
    "%%render\n",
    "A_top = (371*mm**2)\n",
    "A_bot = (1170*mm**2)\n",
    "N_top = A_top / AD\n",
    "N_bot = A_bot / AD"
   ]
  },
  {
   "cell_type": "code",
   "execution_count": null,
   "id": "3cb420f6-3e1f-4791-9ae1-864926e8682a",
   "metadata": {},
   "outputs": [],
   "source": []
  }
 ],
 "metadata": {
  "kernelspec": {
   "display_name": "Python 3 (ipykernel)",
   "language": "python",
   "name": "python3"
  },
  "language_info": {
   "codemirror_mode": {
    "name": "ipython",
    "version": 3
   },
   "file_extension": ".py",
   "mimetype": "text/x-python",
   "name": "python",
   "nbconvert_exporter": "python",
   "pygments_lexer": "ipython3",
   "version": "3.12.0"
  }
 },
 "nbformat": 4,
 "nbformat_minor": 5
}
