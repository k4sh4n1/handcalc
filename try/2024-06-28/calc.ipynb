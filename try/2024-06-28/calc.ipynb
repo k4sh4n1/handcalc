{
 "cells": [
  {
   "cell_type": "code",
   "execution_count": 21,
   "id": "e74fd871-52a3-42c1-8197-d138a5e98ed1",
   "metadata": {},
   "outputs": [],
   "source": [
    "import handcalcs.render\n",
    "import forallpeople\n",
    "forallpeople.environment('structural', top_level=True)"
   ]
  },
  {
   "cell_type": "markdown",
   "id": "f1912b42-f1b2-47af-ba95-169fd6e1b9e3",
   "metadata": {},
   "source": [
    "# Material properties"
   ]
  },
  {
   "cell_type": "markdown",
   "id": "bc53fbba-c05c-4501-8eb0-18aad5c27c69",
   "metadata": {},
   "source": [
    "Concrete is at least C20 and steel rebar is S420 grade."
   ]
  },
  {
   "cell_type": "markdown",
   "id": "57b29e58-3a2a-4643-b32f-5d0138a8020b",
   "metadata": {},
   "source": [
    "# Plan\n",
    "\n",
    "![Plan](./media/plan.svg)\n",
    "\n",
    "# Type\n",
    "\n",
    "![Type](./media/type.svg)\n",
    "\n",
    "# Beam\n",
    "\n",
    "![Beam](./media/beam.svg)\n",
    "\n",
    "# External beam\n",
    "\n",
    "![External beam](./media/type-beam-int.svg)\n",
    "\n",
    "# Internal beam\n",
    "\n",
    "![Internal beam](./media/type-beam-ext.svg)\n",
    "\n",
    "# Beam rebar: longitudinal\n",
    "\n",
    "![Beam rebar: long](./media/beam-rebar.svg)\n",
    "\n",
    "# Beam rebar: transverse\n",
    "\n",
    "![Beam rebar: tra](./media/beam-rebar-tra.svg)\n",
    "\n",
    "# Beam-to-column connection\n",
    "\n",
    "![Connection](./media/connection.svg)"
   ]
  },
  {
   "cell_type": "markdown",
   "id": "789aaed2-fc17-4cc8-a0c3-d08bfc0f22bd",
   "metadata": {},
   "source": [
    "# Rebar density"
   ]
  },
  {
   "cell_type": "code",
   "execution_count": 22,
   "id": "9f2f40f7-2654-49d5-ae3f-0920debad44c",
   "metadata": {},
   "outputs": [
    {
     "data": {
      "text/latex": [
       "\\[\n",
       "\\begin{aligned}\n",
       "\\mathrm{weight}_{rebar} &= 7850.000\\ \\mathrm{kg} \\cdot \\mathrm{m}^{-3} \\; \n",
       "\\end{aligned}\n",
       "\\]"
      ],
      "text/plain": [
       "<IPython.core.display.Latex object>"
      ]
     },
     "metadata": {},
     "output_type": "display_data"
    }
   ],
   "source": [
    "%%render\n",
    "weight_rebar = (7850*kg/m**3)"
   ]
  },
  {
   "cell_type": "markdown",
   "id": "a8d4b147-898f-4416-8951-0ba060ec9946",
   "metadata": {},
   "source": [
    "# External beam: sides"
   ]
  },
  {
   "cell_type": "code",
   "execution_count": 23,
   "id": "19af81c9-0374-4965-acb8-ac65b06ff415",
   "metadata": {},
   "outputs": [
    {
     "data": {
      "text/latex": [
       "\\[\n",
       "\\begin{aligned}\n",
       "A_{top} &= 1841.000\\ \\mathrm{mm}^{2} \\; \n",
       "\\\\[10pt]\n",
       "A_{bot} &= 506.000\\ \\mathrm{mm}^{2} \\; \n",
       "\\end{aligned}\n",
       "\\]"
      ],
      "text/plain": [
       "<IPython.core.display.Latex object>"
      ]
     },
     "metadata": {},
     "output_type": "display_data"
    }
   ],
   "source": [
    "%%render\n",
    "A_top = (1841*mm**2)\n",
    "A_bot = (506*mm**2)"
   ]
  },
  {
   "cell_type": "markdown",
   "id": "d797b715-2245-45bb-b896-0f72efaabfc0",
   "metadata": {},
   "source": [
    "# External beam: middle"
   ]
  },
  {
   "cell_type": "code",
   "execution_count": 24,
   "id": "1f43b754-abf5-468e-a167-695d3a695a8b",
   "metadata": {},
   "outputs": [
    {
     "data": {
      "text/latex": [
       "\\[\n",
       "\\begin{aligned}\n",
       "A_{top} &= 371.000\\ \\mathrm{mm}^{2} \\; \n",
       "\\\\[10pt]\n",
       "A_{bot} &= 1170.000\\ \\mathrm{mm}^{2} \\; \n",
       "\\end{aligned}\n",
       "\\]"
      ],
      "text/plain": [
       "<IPython.core.display.Latex object>"
      ]
     },
     "metadata": {},
     "output_type": "display_data"
    }
   ],
   "source": [
    "%%render\n",
    "A_top = (371*mm**2)\n",
    "A_bot = (1170*mm**2)"
   ]
  },
  {
   "cell_type": "code",
   "execution_count": null,
   "id": "3cb420f6-3e1f-4791-9ae1-864926e8682a",
   "metadata": {},
   "outputs": [],
   "source": []
  }
 ],
 "metadata": {
  "kernelspec": {
   "display_name": "Python 3 (ipykernel)",
   "language": "python",
   "name": "python3"
  },
  "language_info": {
   "codemirror_mode": {
    "name": "ipython",
    "version": 3
   },
   "file_extension": ".py",
   "mimetype": "text/x-python",
   "name": "python",
   "nbconvert_exporter": "python",
   "pygments_lexer": "ipython3",
   "version": "3.12.0"
  }
 },
 "nbformat": 4,
 "nbformat_minor": 5
}
