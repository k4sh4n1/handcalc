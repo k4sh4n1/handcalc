{
 "cells": [
  {
   "cell_type": "code",
   "execution_count": 1,
   "id": "e74fd871-52a3-42c1-8197-d138a5e98ed1",
   "metadata": {},
   "outputs": [],
   "source": [
    "import handcalcs.render\n",
    "import forallpeople\n",
    "forallpeople.environment('structural', top_level=True)"
   ]
  },
  {
   "cell_type": "markdown",
   "id": "f1912b42-f1b2-47af-ba95-169fd6e1b9e3",
   "metadata": {},
   "source": [
    "# Material properties"
   ]
  },
  {
   "cell_type": "markdown",
   "id": "bc53fbba-c05c-4501-8eb0-18aad5c27c69",
   "metadata": {},
   "source": [
    "Concrete is at least C20 and steel rebar is exactly S420 grade."
   ]
  },
  {
   "cell_type": "markdown",
   "id": "57b29e58-3a2a-4643-b32f-5d0138a8020b",
   "metadata": {},
   "source": [
    "# Beam\n",
    "\n",
    "![Plan](./media/plan.svg)\n",
    "\n",
    "![Type](./media/type.svg)\n",
    "\n",
    "![Beam](./media/beam.svg)\n",
    "\n",
    "![External beam](./media/type-beam-int.svg)\n",
    "\n",
    "![Internal beam](./media/type-beam-ext.svg)\n",
    "\n",
    "![Beam rebar: long](./media/beam-rebar.svg)\n",
    "\n",
    "![Beam rebar: tra](./media/beam-rebar-tra.svg)\n",
    "\n",
    "![Connection](./media/connection.svg)"
   ]
  },
  {
   "cell_type": "markdown",
   "id": "789aaed2-fc17-4cc8-a0c3-d08bfc0f22bd",
   "metadata": {},
   "source": [
    "# Definitions"
   ]
  },
  {
   "cell_type": "code",
   "execution_count": 2,
   "id": "9f2f40f7-2654-49d5-ae3f-0920debad44c",
   "metadata": {},
   "outputs": [
    {
     "data": {
      "text/latex": [
       "\\[\n",
       "\\begin{aligned}\n",
       "\\mathrm{density}_{rebar} &= 7850.000\\ \\mathrm{kg} \\cdot \\mathrm{m}^{-3} \\; \n",
       "\\\\[10pt]\n",
       "\\mathrm{cover} &= 50.000\\ \\mathrm{mm} \\; \n",
       "\\\\[10pt]\n",
       "\\mathrm{beam}_{width} &= 400.000\\ \\mathrm{mm} \\; \n",
       "\\\\[10pt]\n",
       "\\mathrm{beam}_{height_{internal}} &= 300.000\\ \\mathrm{mm} \\; \n",
       "\\\\[10pt]\n",
       "\\mathrm{beam}_{height_{external}} &= 500.000\\ \\mathrm{mm} \\; \n",
       "\\\\[10pt]\n",
       "\\mathrm{column}_{dim} &= 450.000\\ \\mathrm{mm} \\; \\;\\textrm{(Column has the same size in both dimensions)}\n",
       "\\\\[10pt]\n",
       "\\mathrm{beam}_{length} &= 5.000\\ \\mathrm{m} \\; \n",
       "\\\\[10pt]\n",
       "\\mathrm{column}_{length} &= 4.000\\ \\mathrm{m} \\; \n",
       "\\\\[10pt]\n",
       "\\mathrm{foundation}_{dim} &= 900.000\\ \\mathrm{mm} \\; \n",
       "\\\\[10pt]\n",
       "\\mathrm{foundation}_{width} &= 500.000\\ \\mathrm{mm} \\; \n",
       "\\\\[10pt]\n",
       "\\mathrm{foundation}_{height} &= 700.000\\ \\mathrm{mm} \\; \n",
       "\\end{aligned}\n",
       "\\]"
      ],
      "text/plain": [
       "<IPython.core.display.Latex object>"
      ]
     },
     "metadata": {},
     "output_type": "display_data"
    }
   ],
   "source": [
    "%%render\n",
    "density_rebar = (7850*kg/m**3)\n",
    "cover = (50*mm)\n",
    "beam_width = (400*mm)\n",
    "beam_height_internal = (300*mm)\n",
    "beam_height_external = (500*mm)\n",
    "column_dim = (450*mm) # Column has the same size in both dimensions\n",
    "beam_length = (5000*mm)\n",
    "column_length = (4000*mm)\n",
    "foundation_dim = (900*mm)\n",
    "foundation_width = (500*mm)\n",
    "foundation_height = (700*mm)"
   ]
  },
  {
   "cell_type": "markdown",
   "id": "288e94ab-a4e3-4892-b98c-57c6d920a994",
   "metadata": {},
   "source": [
    "# Beam: internal: longitudinal rebar"
   ]
  },
  {
   "cell_type": "code",
   "execution_count": 3,
   "id": "caf1b373-b67f-4559-a0e4-62ac09e1a54e",
   "metadata": {},
   "outputs": [
    {
     "data": {
      "text/latex": [
       "\\[\n",
       "\\begin{aligned}\n",
       "A_{side} &= \\left( 1841 \\cdot \\left( \\mathrm{mm} \\right) ^{ 2 } \\right) + \\left( 506 \\cdot \\left( \\mathrm{mm} \\right) ^{ 2 } \\right) \\\\&= \\left( 1841 \\cdot \\left( mm \\right) ^{ 2 } \\right) + \\left( 506 \\cdot \\left( mm \\right) ^{ 2 } \\right) \\\\&= 2347.000\\ \\mathrm{mm}^{2} \\; \\;\\textrm{(top + bottom)}\\\\[10pt]\n",
       "\\\\[10pt]\n",
       "A_{mid} &= \\left( 371 \\cdot \\left( \\mathrm{mm} \\right) ^{ 2 } \\right) + \\left( 1170 \\cdot \\left( \\mathrm{mm} \\right) ^{ 2 } \\right) \\\\&= \\left( 371 \\cdot \\left( mm \\right) ^{ 2 } \\right) + \\left( 1170 \\cdot \\left( mm \\right) ^{ 2 } \\right) \\\\&= 1541.000\\ \\mathrm{mm}^{2} \\; \\;\\textrm{(top + bottom)}\\\\[10pt]\n",
       "\\\\[10pt]\n",
       "l_{side} &= \\frac{ 2 }{ 3 } \\cdot \\mathrm{beam}_{length}  = \\frac{ 2 }{ 3 } \\cdot 5.000\\ \\mathrm{m} &= 3.333\\ \\mathrm{m}  \n",
       "\\\\[10pt]\n",
       "l_{mid} &= \\frac{ 1 }{ 3 } \\cdot \\mathrm{beam}_{length}  = \\frac{ 1 }{ 3 } \\cdot 5.000\\ \\mathrm{m} &= 1.667\\ \\mathrm{m}  \n",
       "\\\\[10pt]\n",
       "\\mathrm{count} &= 4 \\; \n",
       "\\\\[10pt]\n",
       "v_{il} &= \\mathrm{count} \\cdot \\left( A_{side} \\cdot l_{side} + A_{mid} \\cdot l_{mid} \\right) \\\\&= 4 \\cdot \\left( 2347.000\\ \\mathrm{mm}^{2} \\cdot 3.333\\ \\mathrm{m} + 1541.000\\ \\mathrm{mm}^{2} \\cdot 1.667\\ \\mathrm{m} \\right) \\\\&= 41566666.667\\ \\mathrm{mm}^{3}  \\\\[10pt]\n",
       "\\end{aligned}\n",
       "\\]"
      ],
      "text/plain": [
       "<IPython.core.display.Latex object>"
      ]
     },
     "metadata": {},
     "output_type": "display_data"
    }
   ],
   "source": [
    "%%render\n",
    "A_side = (1841*mm**2) + (506*mm**2) # top + bottom\n",
    "A_mid = (371*mm**2) + (1170*mm**2) # top + bottom\n",
    "\n",
    "l_side = 2/3*beam_length\n",
    "l_mid = 1/3*beam_length\n",
    "\n",
    "count = 4\n",
    "\n",
    "v_il = count*(A_side*l_side+A_mid*l_mid)"
   ]
  },
  {
   "cell_type": "markdown",
   "id": "1f665c43-3b2a-4ea0-8697-ef369a07cd70",
   "metadata": {},
   "source": [
    "# Beam: external: longitudinal rebar"
   ]
  },
  {
   "cell_type": "code",
   "execution_count": 4,
   "id": "a265cb44-58dd-4292-a51b-5ca85e5008b8",
   "metadata": {},
   "outputs": [
    {
     "data": {
      "text/latex": [
       "\\[\n",
       "\\begin{aligned}\n",
       "A_{side} &= \\left( 1231 \\cdot \\left( \\mathrm{mm} \\right) ^{ 2 } \\right) + \\left( 840 \\cdot \\left( \\mathrm{mm} \\right) ^{ 2 } \\right) \\\\&= \\left( 1231 \\cdot \\left( mm \\right) ^{ 2 } \\right) + \\left( 840 \\cdot \\left( mm \\right) ^{ 2 } \\right) \\\\&= 2071.000\\ \\mathrm{mm}^{2} \\; \\;\\textrm{(top + bottom)}\\\\[10pt]\n",
       "\\\\[10pt]\n",
       "A_{mid} &= \\left( 840 \\cdot \\left( \\mathrm{mm} \\right) ^{ 2 } \\right) + \\left( 840 \\cdot \\left( \\mathrm{mm} \\right) ^{ 2 } \\right) \\\\&= \\left( 840 \\cdot \\left( mm \\right) ^{ 2 } \\right) + \\left( 840 \\cdot \\left( mm \\right) ^{ 2 } \\right) \\\\&= 1680.000\\ \\mathrm{mm}^{2} \\; \\;\\textrm{(top + bottom)}\\\\[10pt]\n",
       "\\\\[10pt]\n",
       "l_{side} &= \\mathrm{beam}_{length} \\cdot \\frac{ 2 }{ 3 }  = 5.000\\ \\mathrm{m} \\cdot \\frac{ 2 }{ 3 } &= 3.333\\ \\mathrm{m}  \n",
       "\\\\[10pt]\n",
       "l_{mid} &= \\mathrm{beam}_{length} \\cdot \\frac{ 1 }{ 3 }  = 5.000\\ \\mathrm{m} \\cdot \\frac{ 1 }{ 3 } &= 1.667\\ \\mathrm{m}  \n",
       "\\\\[10pt]\n",
       "\\mathrm{count} &= 8 \\; \n",
       "\\\\[10pt]\n",
       "v_{xl} &= \\mathrm{count} \\cdot \\left( l_{side} \\cdot A_{side} + l_{mid} \\cdot A_{mid} \\right) \\\\&= 8 \\cdot \\left( 3.333\\ \\mathrm{m} \\cdot 2071.000\\ \\mathrm{mm}^{2} + 1.667\\ \\mathrm{m} \\cdot 1680.000\\ \\mathrm{mm}^{2} \\right) \\\\&= 77626666.667\\ \\mathrm{mm}^{3}  \\\\[10pt]\n",
       "\\end{aligned}\n",
       "\\]"
      ],
      "text/plain": [
       "<IPython.core.display.Latex object>"
      ]
     },
     "metadata": {},
     "output_type": "display_data"
    }
   ],
   "source": [
    "%%render\n",
    "\n",
    "A_side = (1231*mm**2) + (840*mm**2) # top + bottom\n",
    "A_mid = (840*mm**2) + (840*mm**2) # top + bottom\n",
    "\n",
    "l_side = beam_length * 2/3\n",
    "l_mid = beam_length * 1/3\n",
    "\n",
    "count = 8\n",
    "\n",
    "v_xl = count * (l_side*A_side+l_mid*A_mid)"
   ]
  },
  {
   "cell_type": "markdown",
   "id": "a8d4b147-898f-4416-8951-0ba060ec9946",
   "metadata": {},
   "source": [
    "# Beam: internal: transverse rebar"
   ]
  },
  {
   "cell_type": "code",
   "execution_count": 5,
   "id": "19af81c9-0374-4965-acb8-ac65b06ff415",
   "metadata": {},
   "outputs": [
    {
     "data": {
      "text/latex": [
       "\\[\n",
       "\\begin{aligned}\n",
       "A_{T10} &= \\frac{ 3.1415 }{ 4 } \\cdot \\left( 10 \\cdot \\mathrm{mm} \\right) ^{ 2 }  = \\frac{ 3.1415 }{ 4 } \\cdot \\left( 10 \\cdot mm \\right) ^{ 2 } &= 78.538\\ \\mathrm{mm}^{2}  \n",
       "\\\\[10pt]\n",
       "l &= \\left( \\mathrm{beam}_{width} - 2 \\cdot \\mathrm{cover} \\right) \\cdot 2 + \\left( \\mathrm{beam}_{height_{internal}} - 2 \\cdot \\mathrm{cover} \\right) \\cdot 2 + 2 \\cdot \\left( 75 \\cdot \\mathrm{mm} \\right) \\\\&= \\left( 400.000\\ \\mathrm{mm} - 2 \\cdot 50.000\\ \\mathrm{mm} \\right) \\cdot 2 + \\left( 300.000\\ \\mathrm{mm} - 2 \\cdot 50.000\\ \\mathrm{mm} \\right) \\cdot 2 + 2 \\cdot \\left( 75 \\cdot mm \\right) \\\\&= 1.150\\ \\mathrm{m}  \\\\[10pt]\n",
       "\\\\[10pt]\n",
       "v &= l \\cdot A_{T10}  = 1.150\\ \\mathrm{m} \\cdot 78.538\\ \\mathrm{mm}^{2} &= 90318.125\\ \\mathrm{mm}^{3} \\; \\;\\textrm{(For a single transverse rebar)}\n",
       "\\\\[10pt]\n",
       "d &= 120.000\\ \\mathrm{mm} \\; \n",
       "\\\\[10pt]\n",
       "v_{noncritical} &= \\frac{ v }{ d }  = \\frac{ 90318.125\\ \\mathrm{mm}^{3} }{ 120.000\\ \\mathrm{mm} } &= 752.651\\ \\mathrm{mm}^{2}  \n",
       "\\\\[10pt]\n",
       "v_{critical} &= \\frac{ v }{ \\frac{ d }{ 2 } }  = \\frac{ 90318.125\\ \\mathrm{mm}^{3} }{ \\frac{ 120.000\\ \\mathrm{mm} }{ 2 } } &= 1505.302\\ \\mathrm{mm}^{2}  \n",
       "\\\\[10pt]\n",
       "l_{critical} &= 2 \\cdot 2 \\cdot \\mathrm{beam}_{height_{internal}}  = 2 \\cdot 2 \\cdot 300.000\\ \\mathrm{mm} &= 1.200\\ \\mathrm{m}  \n",
       "\\\\[10pt]\n",
       "l_{noncritical} &= \\mathrm{beam}_{length} - l_{critical}  = 5.000\\ \\mathrm{m} - 1.200\\ \\mathrm{m} &= 3.800\\ \\mathrm{m}  \n",
       "\\\\[10pt]\n",
       "\\mathrm{count} &= 4 \\; \n",
       "\\\\[10pt]\n",
       "v_{it} &= \\mathrm{count} \\cdot \\left( l_{critical} \\cdot v_{critical} + l_{noncritical} \\cdot v_{noncritical} \\right) \\\\&= 4 \\cdot \\left( 1.200\\ \\mathrm{m} \\cdot 1505.302\\ \\mathrm{mm}^{2} + 3.800\\ \\mathrm{m} \\cdot 752.651\\ \\mathrm{mm}^{2} \\right) \\\\&= 18665745.833\\ \\mathrm{mm}^{3}  \\\\[10pt]\n",
       "\\end{aligned}\n",
       "\\]"
      ],
      "text/plain": [
       "<IPython.core.display.Latex object>"
      ]
     },
     "metadata": {},
     "output_type": "display_data"
    }
   ],
   "source": [
    "%%render\n",
    "A_T10 = 3.1415/4*(10*mm)**2\n",
    "l = (beam_width-2*cover)*2+(beam_height_internal-2*cover)*2 + 2*(75*mm)\n",
    "v = l*A_T10 # For a single transverse rebar\n",
    "d = (120*mm)\n",
    "v_noncritical = v / d\n",
    "v_critical = v / (d/2)\n",
    "l_critical = 2 * 2 * beam_height_internal\n",
    "l_noncritical = beam_length - l_critical\n",
    "count = 4\n",
    "v_it = count*(l_critical*v_critical+l_noncritical*v_noncritical)\n"
   ]
  },
  {
   "cell_type": "markdown",
   "id": "c8df4119-53e7-4fda-aef5-0d7612fdfe13",
   "metadata": {},
   "source": [
    "# Beam: external: transverse rebar"
   ]
  },
  {
   "cell_type": "code",
   "execution_count": 6,
   "id": "42706fb2-a664-45e7-ab1f-661c5d2d1e4d",
   "metadata": {},
   "outputs": [
    {
     "data": {
      "text/latex": [
       "\\[\n",
       "\\begin{aligned}\n",
       "A_{T10} &= \\frac{ 3.1415 }{ 4 } \\cdot \\left( 10 \\cdot \\mathrm{mm} \\right) ^{ 2 }  = \\frac{ 3.1415 }{ 4 } \\cdot \\left( 10 \\cdot mm \\right) ^{ 2 } &= 78.538\\ \\mathrm{mm}^{2}  \n",
       "\\\\[10pt]\n",
       "l &= \\left( \\mathrm{beam}_{width} - 2 \\cdot \\mathrm{cover} \\right) \\cdot 2 + \\left( \\mathrm{beam}_{height_{external}} - 2 \\cdot \\mathrm{cover} \\right) \\cdot 2 + 2 \\cdot \\left( 75 \\cdot \\mathrm{mm} \\right) \\\\&= \\left( 400.000\\ \\mathrm{mm} - 2 \\cdot 50.000\\ \\mathrm{mm} \\right) \\cdot 2 + \\left( 500.000\\ \\mathrm{mm} - 2 \\cdot 50.000\\ \\mathrm{mm} \\right) \\cdot 2 + 2 \\cdot \\left( 75 \\cdot mm \\right) \\\\&= 1.550\\ \\mathrm{m}  \\\\[10pt]\n",
       "\\\\[10pt]\n",
       "v &= 121733.125\\ \\mathrm{mm}^{3} \\; \\;\\textrm{(For a single transverse rebar)}\n",
       "\\\\[10pt]\n",
       "d &= 200.000\\ \\mathrm{mm} \\; \n",
       "\\\\[10pt]\n",
       "v_{noncritical} &= 608.666\\ \\mathrm{mm}^{2} \\; \n",
       "\\\\[10pt]\n",
       "v_{critical} &= 1217.331\\ \\mathrm{mm}^{2} \\; \n",
       "\\\\[10pt]\n",
       "l_{critical} &= 2 \\cdot 2 \\cdot \\mathrm{beam}_{height_{external}}  = 2 \\cdot 2 \\cdot 500.000\\ \\mathrm{mm} &= 2.000\\ \\mathrm{m}  \n",
       "\\\\[10pt]\n",
       "l_{noncritical} &= \\mathrm{beam}_{length} - l_{critical}  = 5.000\\ \\mathrm{m} - 2.000\\ \\mathrm{m} &= 3.000\\ \\mathrm{m}  \n",
       "\\\\[10pt]\n",
       "\\mathrm{count} &= 8 \\; \n",
       "\\\\[10pt]\n",
       "v_{xt} &= \\mathrm{count} \\cdot \\left( l_{critical} \\cdot v_{critical} + l_{noncritical} \\cdot v_{noncritical} \\right) \\\\&= 8 \\cdot \\left( 2.000\\ \\mathrm{m} \\cdot 1217.331\\ \\mathrm{mm}^{2} + 3.000\\ \\mathrm{m} \\cdot 608.666\\ \\mathrm{mm}^{2} \\right) \\\\&= 34085275.000\\ \\mathrm{mm}^{3}  \\\\[10pt]\n",
       "\\end{aligned}\n",
       "\\]"
      ],
      "text/plain": [
       "<IPython.core.display.Latex object>"
      ]
     },
     "metadata": {},
     "output_type": "display_data"
    }
   ],
   "source": [
    "%%render\n",
    "A_T10 = 3.1415/4*(10*mm)**2\n",
    "l = (beam_width-2*cover)*2+(beam_height_external-2*cover)*2 + 2*(75*mm)\n",
    "v=l*A_T10 # For a single transverse rebar\n",
    "d = (200*mm)\n",
    "v_noncritical=v/d\n",
    "v_critical=v/(d/2)\n",
    "l_critical = 2 * 2 * beam_height_external\n",
    "l_noncritical = beam_length - l_critical\n",
    "count = 8\n",
    "v_xt = count*(l_critical*v_critical+l_noncritical*v_noncritical)"
   ]
  },
  {
   "cell_type": "markdown",
   "id": "8349648f-670c-4a69-8642-cda9966ce8a7",
   "metadata": {},
   "source": [
    "# Beam: total rebar"
   ]
  },
  {
   "cell_type": "code",
   "execution_count": 7,
   "id": "09fd3134-c655-41a7-a759-6ffd6caa4c3a",
   "metadata": {},
   "outputs": [
    {
     "data": {
      "text/latex": [
       "\\[\n",
       "\\begin{aligned}\n",
       "\\mathrm{beam}_{rebar} &= v_{il} + v_{xl} + v_{it} + v_{xt} \\\\&= 41566666.667\\ \\mathrm{mm}^{3} + 77626666.667\\ \\mathrm{mm}^{3} + 18665745.833\\ \\mathrm{mm}^{3} + 34085275.000\\ \\mathrm{mm}^{3} \\\\&= 171944354.167\\ \\mathrm{mm}^{3}  \\\\[10pt]\n",
       "\\end{aligned}\n",
       "\\]"
      ],
      "text/plain": [
       "<IPython.core.display.Latex object>"
      ]
     },
     "metadata": {},
     "output_type": "display_data"
    }
   ],
   "source": [
    "%%render\n",
    "beam_rebar = v_il + v_xl + v_it + v_xt"
   ]
  },
  {
   "cell_type": "markdown",
   "id": "c001ae83-9ef3-4879-a5ab-630a3e49e4da",
   "metadata": {},
   "source": [
    "# Beam: total concrete"
   ]
  },
  {
   "cell_type": "code",
   "execution_count": 8,
   "id": "fb797515-6f15-4531-99fe-99f5c1a9d3aa",
   "metadata": {},
   "outputs": [
    {
     "data": {
      "text/latex": [
       "\\[\n",
       "\\begin{aligned}\n",
       "\\mathrm{beam}_{concrete} &= 4 \\cdot \\mathrm{beam}_{length} \\cdot \\mathrm{beam}_{width} \\cdot \\mathrm{beam}_{height_{internal}} + 8 \\cdot \\mathrm{beam}_{length} \\cdot \\mathrm{beam}_{width} \\cdot \\mathrm{beam}_{height_{external}} - \\mathrm{beam}_{rebar} \\\\&= 4 \\cdot 5.000\\ \\mathrm{m} \\cdot 400.000\\ \\mathrm{mm} \\cdot 300.000\\ \\mathrm{mm} + 8 \\cdot 5.000\\ \\mathrm{m} \\cdot 400.000\\ \\mathrm{mm} \\cdot 500.000\\ \\mathrm{mm} - 171944354.167\\ \\mathrm{mm}^{3} \\\\&= 10.228\\ \\mathrm{m}^{3}  \\\\[10pt]\n",
       "\\end{aligned}\n",
       "\\]"
      ],
      "text/plain": [
       "<IPython.core.display.Latex object>"
      ]
     },
     "metadata": {},
     "output_type": "display_data"
    }
   ],
   "source": [
    "%%render\n",
    "beam_concrete = 4*beam_length*beam_width*beam_height_internal + 8*beam_length*beam_width*beam_height_external - beam_rebar"
   ]
  },
  {
   "cell_type": "markdown",
   "id": "8747b092-4e39-4e10-898e-13cf3aa91408",
   "metadata": {},
   "source": [
    "# Column\n",
    "\n",
    "![Column](./media/column.svg)\n",
    "\n",
    "![Section](./media/section.svg)\n",
    "\n",
    "![Column table](./media/column-table.svg)\n",
    "\n",
    "![Column type](./media/column-type.svg)\n",
    "\n",
    "![Column rebar](./media/column-rebar.svg)"
   ]
  },
  {
   "cell_type": "markdown",
   "id": "42e4c924-3deb-4226-b394-56c258036f65",
   "metadata": {},
   "source": [
    "# Column: 45-1: longitudinal rebar"
   ]
  },
  {
   "cell_type": "code",
   "execution_count": 9,
   "id": "1ad0ddd6-d660-4e9d-a9eb-f86f59f32d26",
   "metadata": {},
   "outputs": [
    {
     "data": {
      "text/latex": [
       "\\[\n",
       "\\begin{aligned}\n",
       "A &= 8 \\cdot \\frac{ 3.1415 }{ 4 } \\cdot \\left( 18 \\cdot \\mathrm{mm} \\right) ^{ 2 }  = 8 \\cdot \\frac{ 3.1415 }{ 4 } \\cdot \\left( 18 \\cdot mm \\right) ^{ 2 } &= 2035.692\\ \\mathrm{mm}^{2}  \n",
       "\\\\[10pt]\n",
       "\\mathrm{count} &= 5 \\; \n",
       "\\\\[10pt]\n",
       "v_{1l} &= \\mathrm{count} \\cdot \\mathrm{column}_{length} \\cdot A  = 5 \\cdot 4.000\\ \\mathrm{m} \\cdot 2035.692\\ \\mathrm{mm}^{2} &= 40713840.000\\ \\mathrm{mm}^{3}  \n",
       "\\end{aligned}\n",
       "\\]"
      ],
      "text/plain": [
       "<IPython.core.display.Latex object>"
      ]
     },
     "metadata": {},
     "output_type": "display_data"
    }
   ],
   "source": [
    "%%render\n",
    "A = 8*3.1415/4*(18*mm)**2\n",
    "count = 5\n",
    "\n",
    "v_1l = count * column_length * A"
   ]
  },
  {
   "cell_type": "markdown",
   "id": "c5429c1c-1b76-4aa1-9573-d7bd13ac6371",
   "metadata": {},
   "source": [
    "# Column: 45-2: longitudinal rebar"
   ]
  },
  {
   "cell_type": "code",
   "execution_count": 10,
   "id": "3bf3b635-1820-4a76-91a8-b2751f89b3cd",
   "metadata": {},
   "outputs": [
    {
     "data": {
      "text/latex": [
       "\\[\n",
       "\\begin{aligned}\n",
       "A &= 8 \\cdot \\frac{ 3.1415 }{ 4 } \\cdot \\left( 25 \\cdot \\mathrm{mm} \\right) ^{ 2 }  = 8 \\cdot \\frac{ 3.1415 }{ 4 } \\cdot \\left( 25 \\cdot mm \\right) ^{ 2 } &= 3926.875\\ \\mathrm{mm}^{2}  \n",
       "\\\\[10pt]\n",
       "\\mathrm{count} &= 4 \\; \n",
       "\\\\[10pt]\n",
       "v_{2l} &= \\mathrm{count} \\cdot \\mathrm{column}_{length} \\cdot A  = 4 \\cdot 4.000\\ \\mathrm{m} \\cdot 3926.875\\ \\mathrm{mm}^{2} &= 62830000.000\\ \\mathrm{mm}^{3}  \n",
       "\\end{aligned}\n",
       "\\]"
      ],
      "text/plain": [
       "<IPython.core.display.Latex object>"
      ]
     },
     "metadata": {},
     "output_type": "display_data"
    }
   ],
   "source": [
    "%%render\n",
    "A = 8*3.1415/4*(25*mm)**2\n",
    "count = 4\n",
    "\n",
    "v_2l = count * column_length * A"
   ]
  },
  {
   "cell_type": "markdown",
   "id": "8fe99581-63fe-4475-b6fe-8d394b90e161",
   "metadata": {},
   "source": [
    "# Column: 45-1 & 45-2: transverse rebar"
   ]
  },
  {
   "cell_type": "code",
   "execution_count": 11,
   "id": "6c4d033b-4f8c-4e49-bbc5-a28c39c8c72f",
   "metadata": {},
   "outputs": [
    {
     "data": {
      "text/latex": [
       "\\[\n",
       "\\begin{aligned}\n",
       "A_{T10} &= \\frac{ 3.1415 }{ 4 } \\cdot \\left( 10 \\cdot \\mathrm{mm} \\right) ^{ 2 }  = \\frac{ 3.1415 }{ 4 } \\cdot \\left( 10 \\cdot mm \\right) ^{ 2 } &= 78.538\\ \\mathrm{mm}^{2}  \n",
       "\\\\[10pt]\n",
       "l &= 4 \\cdot \\left( \\mathrm{column}_{dim} - 2 \\cdot \\mathrm{cover} \\right) + 2 \\cdot \\left( 75 \\cdot \\mathrm{mm} \\right) \\\\&= 4 \\cdot \\left( 450.000\\ \\mathrm{mm} - 2 \\cdot 50.000\\ \\mathrm{mm} \\right) + 2 \\cdot \\left( 75 \\cdot mm \\right) \\\\&= 1.550\\ \\mathrm{m}  \\\\[10pt]\n",
       "\\\\[10pt]\n",
       "v &= l \\cdot A_{T10}  = 1.550\\ \\mathrm{m} \\cdot 78.538\\ \\mathrm{mm}^{2} &= 121733.125\\ \\mathrm{mm}^{3} \\; \\;\\textrm{(For a single transverse rebar)}\n",
       "\\\\[10pt]\n",
       "d &= 200.000\\ \\mathrm{mm} \\; \n",
       "\\\\[10pt]\n",
       "v_{noncritical} &= \\frac{ v }{ d }  = \\frac{ 121733.125\\ \\mathrm{mm}^{3} }{ 200.000\\ \\mathrm{mm} } &= 608.666\\ \\mathrm{mm}^{2}  \n",
       "\\\\[10pt]\n",
       "v_{critical} &= \\frac{ v }{ \\frac{ d }{ 2 } }  = \\frac{ 121733.125\\ \\mathrm{mm}^{3} }{ \\frac{ 200.000\\ \\mathrm{mm} }{ 2 } } &= 1217.331\\ \\mathrm{mm}^{2}  \n",
       "\\\\[10pt]\n",
       "l_{critical} &= 2 \\cdot \\frac{ \\mathrm{column}_{length} }{ 6 }  = 2 \\cdot \\frac{ 4.000\\ \\mathrm{m} }{ 6 } &= 1.333\\ \\mathrm{m}  \n",
       "\\\\[10pt]\n",
       "l_{noncritical} &= \\mathrm{column}_{length} - l_{critical}  = 4.000\\ \\mathrm{m} - 1.333\\ \\mathrm{m} &= 2.667\\ \\mathrm{m}  \n",
       "\\\\[10pt]\n",
       "\\mathrm{count} &= 8 \\; \n",
       "\\\\[10pt]\n",
       "v_{12t} &= \\mathrm{count} \\cdot \\left( l_{critical} \\cdot v_{critical} + l_{noncritical} \\cdot v_{noncritical} \\right) \\\\&= 8 \\cdot \\left( 1.333\\ \\mathrm{m} \\cdot 1217.331\\ \\mathrm{mm}^{2} + 2.667\\ \\mathrm{m} \\cdot 608.666\\ \\mathrm{mm}^{2} \\right) \\\\&= 25969733.333\\ \\mathrm{mm}^{3}  \\\\[10pt]\n",
       "\\end{aligned}\n",
       "\\]"
      ],
      "text/plain": [
       "<IPython.core.display.Latex object>"
      ]
     },
     "metadata": {},
     "output_type": "display_data"
    }
   ],
   "source": [
    "%%render\n",
    "A_T10 = 3.1415/4*(10*mm)**2\n",
    "l = 4*(column_dim-2*cover) + 2*(75*mm)\n",
    "v = l * A_T10 # For a single transverse rebar\n",
    "d = (200*mm)\n",
    "v_noncritical = v / d\n",
    "v_critical = v / (d/2)\n",
    "l_critical = 2 * column_length / 6\n",
    "l_noncritical = column_length - l_critical\n",
    "count = 8\n",
    "\n",
    "v_12t = count * (l_critical*v_critical + l_noncritical*v_noncritical)"
   ]
  },
  {
   "cell_type": "markdown",
   "id": "5195e92b-0023-4981-ba90-3eaea417f36c",
   "metadata": {},
   "source": [
    "# Column: total rebar"
   ]
  },
  {
   "cell_type": "code",
   "execution_count": 12,
   "id": "ccf75544-b56e-41ec-bfde-9af231c02765",
   "metadata": {},
   "outputs": [
    {
     "data": {
      "text/latex": [
       "\\[\n",
       "\\begin{aligned}\n",
       "\\mathrm{column}_{rebar} &= v_{1l} + v_{2l} + v_{12t} \\\\&= 40713840.000\\ \\mathrm{mm}^{3} + 62830000.000\\ \\mathrm{mm}^{3} + 25969733.333\\ \\mathrm{mm}^{3} \\\\&= 129513573.333\\ \\mathrm{mm}^{3}  \\\\[10pt]\n",
       "\\end{aligned}\n",
       "\\]"
      ],
      "text/plain": [
       "<IPython.core.display.Latex object>"
      ]
     },
     "metadata": {},
     "output_type": "display_data"
    }
   ],
   "source": [
    "%%render\n",
    "column_rebar = v_1l + v_2l + v_12t"
   ]
  },
  {
   "cell_type": "markdown",
   "id": "f35da5c5-1552-4e46-831e-4e1c87dbadd7",
   "metadata": {},
   "source": [
    "# Column: total concrete"
   ]
  },
  {
   "cell_type": "code",
   "execution_count": 13,
   "id": "e093609f-59cc-4525-a485-c65915ecfb68",
   "metadata": {},
   "outputs": [
    {
     "data": {
      "text/latex": [
       "\\[\n",
       "\\begin{aligned}\n",
       "\\mathrm{count} &= 9 \\; \n",
       "\\\\[10pt]\n",
       "\\mathrm{column}_{concrete} &= \\mathrm{count} \\cdot \\mathrm{column}_{length} \\cdot \\left( \\mathrm{column}_{dim} \\right) ^{ 2 } - \\mathrm{column}_{rebar} \\\\&= 9 \\cdot 4.000\\ \\mathrm{m} \\cdot \\left( 450.000\\ \\mathrm{mm} \\right) ^{ 2 } - 129513573.333\\ \\mathrm{mm}^{3} \\\\&= 7.160\\ \\mathrm{m}^{3}  \\\\[10pt]\n",
       "\\end{aligned}\n",
       "\\]"
      ],
      "text/plain": [
       "<IPython.core.display.Latex object>"
      ]
     },
     "metadata": {},
     "output_type": "display_data"
    }
   ],
   "source": [
    "%%render\n",
    "count = 9\n",
    "column_concrete = count * column_length * column_dim**2 - column_rebar"
   ]
  },
  {
   "cell_type": "markdown",
   "id": "02112b42-2685-45c1-a71c-b5a0a09f1f2a",
   "metadata": {},
   "source": [
    "# Foundation\n",
    "\n",
    "![Foundation](./media/foundation.svg)\n",
    "\n",
    "![Foundation section](./media/foundation-section.svg)"
   ]
  },
  {
   "cell_type": "markdown",
   "id": "03fac11f-ae51-4d53-9bc9-408f809a8f01",
   "metadata": {},
   "source": [
    "# Foundation: center: rebar"
   ]
  },
  {
   "cell_type": "code",
   "execution_count": 14,
   "id": "f9bc55c9-bce6-443c-bd3b-331a5efbd544",
   "metadata": {},
   "outputs": [
    {
     "data": {
      "text/latex": [
       "\\[\n",
       "\\begin{aligned}\n",
       "A_{T20} &= \\frac{ 3.1415 }{ 4 } \\cdot \\left( 20 \\cdot \\mathrm{mm} \\right) ^{ 2 }  = \\frac{ 3.1415 }{ 4 } \\cdot \\left( 20 \\cdot mm \\right) ^{ 2 } &= 314.150\\ \\mathrm{mm}^{2}  \n",
       "\\\\[10pt]\n",
       "l &= 2 \\cdot \\left( \\mathrm{foundation}_{dim} - 2 \\cdot \\mathrm{cover} + 2 \\cdot \\left( 300 \\cdot \\mathrm{mm} \\right) \\right) \\\\&= 2 \\cdot \\left( 900.000\\ \\mathrm{mm} - 2 \\cdot 50.000\\ \\mathrm{mm} + 2 \\cdot \\left( 300 \\cdot mm \\right) \\right) \\\\&= 2.800\\ \\mathrm{m} \\; \\;\\textrm{(Top and bottom)}\\\\[10pt]\n",
       "\\\\[10pt]\n",
       "v &= l \\cdot A_{T20}  = 2.800\\ \\mathrm{m} \\cdot 314.150\\ \\mathrm{mm}^{2} &= 879620.000\\ \\mathrm{mm}^{3} \\; \\;\\textrm{(For a single transverse: top and bottom)}\n",
       "\\\\[10pt]\n",
       "d &= 250.000\\ \\mathrm{mm} \\; \n",
       "\\\\[10pt]\n",
       "v_{perlength} &= \\frac{ v }{ d }  = \\frac{ 879620.000\\ \\mathrm{mm}^{3} }{ 250.000\\ \\mathrm{mm} } &= 3518.480\\ \\mathrm{mm}^{2}  \n",
       "\\\\[10pt]\n",
       "\\mathrm{foundation}_{center_{rebar}} &= 2 \\cdot v_{perlength} \\cdot \\mathrm{foundation}_{dim} \\\\&= 2 \\cdot 3518.480\\ \\mathrm{mm}^{2} \\cdot 900.000\\ \\mathrm{mm} \\\\&= 6333264.000\\ \\mathrm{mm}^{3} \\; \\;\\textrm{(Both dimensions)}\\\\[10pt]\n",
       "\\end{aligned}\n",
       "\\]"
      ],
      "text/plain": [
       "<IPython.core.display.Latex object>"
      ]
     },
     "metadata": {},
     "output_type": "display_data"
    }
   ],
   "source": [
    "%%render\n",
    "A_T20 = 3.1415/4*(20*mm)**2\n",
    "l = 2*(foundation_dim - 2*cover + 2*(300*mm)) # Top and bottom\n",
    "v = l * A_T20 # For a single transverse: top and bottom\n",
    "d = (250*mm)\n",
    "v_perlength = v / d\n",
    "\n",
    "foundation_center_rebar = 2 * v_perlength * foundation_dim # Both dimensions"
   ]
  },
  {
   "cell_type": "markdown",
   "id": "8e263fd6-1200-45b1-ad21-73e01358f1e9",
   "metadata": {},
   "source": [
    "# Foundation: around: transverse rebar"
   ]
  },
  {
   "cell_type": "code",
   "execution_count": 15,
   "id": "57b028c2-ede8-419e-8ce2-f45369078974",
   "metadata": {},
   "outputs": [
    {
     "data": {
      "text/latex": [
       "\\[\n",
       "\\begin{aligned}\n",
       "A_{T20} &= \\frac{ 3.1415 }{ 4 } \\cdot \\left( 20 \\cdot \\mathrm{mm} \\right) ^{ 2 }  = \\frac{ 3.1415 }{ 4 } \\cdot \\left( 20 \\cdot mm \\right) ^{ 2 } &= 314.150\\ \\mathrm{mm}^{2}  \n",
       "\\\\[10pt]\n",
       "l &= 2 \\cdot \\left( \\mathrm{foundation}_{width} - 2 \\cdot \\mathrm{cover} + 2 \\cdot \\left( 300 \\cdot \\mathrm{mm} \\right) \\right) \\\\&= 2 \\cdot \\left( 500.000\\ \\mathrm{mm} - 2 \\cdot 50.000\\ \\mathrm{mm} + 2 \\cdot \\left( 300 \\cdot mm \\right) \\right) \\\\&= 2.000\\ \\mathrm{m} \\; \\;\\textrm{(Top and bottom)}\\\\[10pt]\n",
       "\\\\[10pt]\n",
       "v &= A_{T20} \\cdot l  = 314.150\\ \\mathrm{mm}^{2} \\cdot 2.000\\ \\mathrm{m} &= 628300.000\\ \\mathrm{mm}^{3}  \n",
       "\\\\[10pt]\n",
       "d &= 250.000\\ \\mathrm{mm} \\; \n",
       "\\\\[10pt]\n",
       "v_{perlength} &= \\frac{ v }{ d }  = \\frac{ 628300.000\\ \\mathrm{mm}^{3} }{ 250.000\\ \\mathrm{mm} } &= 2513.200\\ \\mathrm{mm}^{2}  \n",
       "\\\\[10pt]\n",
       "\\mathrm{foundation}_{around_{rebar_{transverse}}} &= v_{perlength} \\cdot 4 \\cdot \\left( 10 \\cdot m \\right) \\\\&= 2513.200\\ \\mathrm{mm}^{2} \\cdot 4 \\cdot \\left( 10 \\cdot m \\right) \\\\&= 100528000.000\\ \\mathrm{mm}^{3}  \\\\[10pt]\n",
       "\\end{aligned}\n",
       "\\]"
      ],
      "text/plain": [
       "<IPython.core.display.Latex object>"
      ]
     },
     "metadata": {},
     "output_type": "display_data"
    }
   ],
   "source": [
    "%%render\n",
    "A_T20 = 3.1415/4*(20*mm)**2\n",
    "l = 2 * (foundation_width - 2*cover + 2*(300*mm)) # Top and bottom\n",
    "v = A_T20 * l\n",
    "d = (250*mm)\n",
    "v_perlength = v / d\n",
    "\n",
    "foundation_around_rebar_transverse = v_perlength * 4 * (10*m)"
   ]
  },
  {
   "cell_type": "markdown",
   "id": "e1fbfece-84ae-4e1d-9761-643e5c2b5b6c",
   "metadata": {},
   "source": [
    "# Foundation: around: longitudinal rebar"
   ]
  },
  {
   "cell_type": "code",
   "execution_count": 16,
   "id": "c141bf71-1c88-45e1-bc7e-e19859190c8f",
   "metadata": {},
   "outputs": [
    {
     "data": {
      "text/latex": [
       "\\[\n",
       "\\begin{aligned}\n",
       "A_{25T} &= \\frac{ 3.1415 }{ 4 } \\cdot \\left( 25 \\cdot \\mathrm{mm} \\right) ^{ 2 }  = \\frac{ 3.1415 }{ 4 } \\cdot \\left( 25 \\cdot mm \\right) ^{ 2 } &= 490.859\\ \\mathrm{mm}^{2}  \n",
       "\\\\[10pt]\n",
       "d &= 250.000\\ \\mathrm{mm} \\; \n",
       "\\\\[10pt]\n",
       "l &= 2 \\cdot \\mathrm{foundation}_{width}  = 2 \\cdot 500.000\\ \\mathrm{mm} &= 1.000\\ \\mathrm{m} \\; \\;\\textrm{(top and bottom)}\n",
       "\\\\[10pt]\n",
       "v_{perlength} &= A_{25T} \\cdot \\frac{ l }{ d }  = 490.859\\ \\mathrm{mm}^{2} \\cdot \\frac{ 1.000\\ \\mathrm{m} }{ 250.000\\ \\mathrm{mm} } &= 1963.438\\ \\mathrm{mm}^{2}  \n",
       "\\\\[10pt]\n",
       "\\mathrm{foundation}_{around_{rebar_{longitudinal}}} &= v_{perlength} \\cdot 4 \\cdot \\left( 10 \\cdot m \\right) \\\\&= 1963.438\\ \\mathrm{mm}^{2} \\cdot 4 \\cdot \\left( 10 \\cdot m \\right) \\\\&= 78537500.000\\ \\mathrm{mm}^{3}  \\\\[10pt]\n",
       "\\end{aligned}\n",
       "\\]"
      ],
      "text/plain": [
       "<IPython.core.display.Latex object>"
      ]
     },
     "metadata": {},
     "output_type": "display_data"
    }
   ],
   "source": [
    "%%render\n",
    "A_25T = 3.1415/4*(25*mm)**2\n",
    "d = (250*mm)\n",
    "l = 2 * foundation_width # top and bottom\n",
    "v_perlength = A_25T * l / d\n",
    "\n",
    "foundation_around_rebar_longitudinal = v_perlength * 4 * (10*m)"
   ]
  },
  {
   "cell_type": "markdown",
   "id": "bd419b24-eb7a-42e1-86c6-a67a388d686a",
   "metadata": {},
   "source": [
    "# Foundation: total rebar"
   ]
  },
  {
   "cell_type": "code",
   "execution_count": 17,
   "id": "499fff74-d767-4ada-8c32-0bbe9528b3d3",
   "metadata": {},
   "outputs": [
    {
     "data": {
      "text/latex": [
       "\\[\n",
       "\\begin{aligned}\n",
       "\\mathrm{foundation}_{rebar} &= \\mathrm{foundation}_{center_{rebar}} + \\mathrm{foundation}_{around_{rebar_{transverse}}} + \\mathrm{foundation}_{around_{rebar_{longitudinal}}} \\\\&= 6333264.000\\ \\mathrm{mm}^{3} + 100528000.000\\ \\mathrm{mm}^{3} + 78537500.000\\ \\mathrm{mm}^{3} \\\\&= 185398764.000\\ \\mathrm{mm}^{3}  \\\\[10pt]\n",
       "\\end{aligned}\n",
       "\\]"
      ],
      "text/plain": [
       "<IPython.core.display.Latex object>"
      ]
     },
     "metadata": {},
     "output_type": "display_data"
    }
   ],
   "source": [
    "%%render\n",
    "foundation_rebar = foundation_center_rebar + foundation_around_rebar_transverse + foundation_around_rebar_longitudinal"
   ]
  },
  {
   "cell_type": "markdown",
   "id": "dcb35fc4-b090-41aa-8bd2-b4245947b4b2",
   "metadata": {},
   "source": [
    "# Foundation: total concrete"
   ]
  },
  {
   "cell_type": "code",
   "execution_count": 18,
   "id": "a0a64e88-0e6f-4f3f-a7b2-3449e94eab43",
   "metadata": {},
   "outputs": [
    {
     "data": {
      "text/latex": [
       "\\[\n",
       "\\begin{aligned}\n",
       "\\mathrm{foundation}_{center_{concrete}} &= 567000000.000\\ \\mathrm{mm}^{3} \\; \n",
       "\\\\[10pt]\n",
       "\\mathrm{foundation}_{around_{concrete}} &= \\mathrm{foundation}_{width} \\cdot \\mathrm{foundation}_{height} \\cdot 4 \\cdot \\left( 10 \\cdot m \\right) \\\\&= 500.000\\ \\mathrm{mm} \\cdot 700.000\\ \\mathrm{mm} \\cdot 4 \\cdot \\left( 10 \\cdot m \\right) \\\\&= 14.000\\ \\mathrm{m}^{3}  \\\\[10pt]\n",
       "\\\\[10pt]\n",
       "\\mathrm{foundation}_{concrete} &= \\mathrm{foundation}_{center_{concrete}} + \\mathrm{foundation}_{around_{concrete}} - \\mathrm{foundation}_{rebar} \\\\&= 567000000.000\\ \\mathrm{mm}^{3} + 14.000\\ \\mathrm{m}^{3} - 185398764.000\\ \\mathrm{mm}^{3} \\\\&= 14.382\\ \\mathrm{m}^{3}  \\\\[10pt]\n",
       "\\end{aligned}\n",
       "\\]"
      ],
      "text/plain": [
       "<IPython.core.display.Latex object>"
      ]
     },
     "metadata": {},
     "output_type": "display_data"
    }
   ],
   "source": [
    "%%render\n",
    "foundation_center_concrete = (foundation_dim**2 * foundation_height)\n",
    "foundation_around_concrete = foundation_width * foundation_height * 4 * (10*m)\n",
    "foundation_concrete = foundation_center_concrete + foundation_around_concrete - foundation_rebar"
   ]
  },
  {
   "cell_type": "markdown",
   "id": "2ccf21af-cd4a-4e50-982e-34330a997fde",
   "metadata": {},
   "source": [
    "# Total rebar"
   ]
  },
  {
   "cell_type": "code",
   "execution_count": 19,
   "id": "2693e1fc-6aa7-47d2-9823-345cf6cc0b1f",
   "metadata": {},
   "outputs": [
    {
     "data": {
      "text/latex": [
       "\\[\n",
       "\\begin{aligned}\n",
       "\\mathrm{rebar} &= \\mathrm{beam}_{rebar} + \\mathrm{column}_{rebar} + \\mathrm{foundation}_{rebar} \\\\&= 171944354.167\\ \\mathrm{mm}^{3} + 129513573.333\\ \\mathrm{mm}^{3} + 185398764.000\\ \\mathrm{mm}^{3} \\\\&= 486856691.500\\ \\mathrm{mm}^{3}  \\\\[10pt]\n",
       "\\\\[10pt]\n",
       "\\mathrm{rebar}_{weight} &= \\mathrm{rebar} \\cdot \\mathrm{density}_{rebar}  = 486856691.500\\ \\mathrm{mm}^{3} \\cdot 7850.000\\ \\mathrm{kg} \\cdot \\mathrm{m}^{-3} &= 3.822\\ \\mathrm{Mg}  \n",
       "\\end{aligned}\n",
       "\\]"
      ],
      "text/plain": [
       "<IPython.core.display.Latex object>"
      ]
     },
     "metadata": {},
     "output_type": "display_data"
    }
   ],
   "source": [
    "%%render\n",
    "rebar = beam_rebar + column_rebar + foundation_rebar\n",
    "rebar_weight = rebar * density_rebar"
   ]
  },
  {
   "cell_type": "markdown",
   "id": "c4beece9-dd2d-4a30-9ce8-38355129af8c",
   "metadata": {},
   "source": [
    "# Total concrete"
   ]
  },
  {
   "cell_type": "code",
   "execution_count": 20,
   "id": "22d901e4-6a26-46fc-825b-20853e83c96a",
   "metadata": {},
   "outputs": [
    {
     "data": {
      "text/latex": [
       "\\[\n",
       "\\begin{aligned}\n",
       "\\mathrm{concrete} &= \\mathrm{beam}_{concrete} + \\mathrm{column}_{concrete} + \\mathrm{foundation}_{concrete} \\\\&= 10.228\\ \\mathrm{m}^{3} + 7.160\\ \\mathrm{m}^{3} + 14.382\\ \\mathrm{m}^{3} \\\\&= 31.770\\ \\mathrm{m}^{3}  \\\\[10pt]\n",
       "\\end{aligned}\n",
       "\\]"
      ],
      "text/plain": [
       "<IPython.core.display.Latex object>"
      ]
     },
     "metadata": {},
     "output_type": "display_data"
    }
   ],
   "source": [
    "%%render\n",
    "concrete = beam_concrete + column_concrete + foundation_concrete"
   ]
  },
  {
   "cell_type": "code",
   "execution_count": null,
   "id": "9d9441bd-7897-428b-9b2a-56ede636f47b",
   "metadata": {},
   "outputs": [],
   "source": []
  }
 ],
 "metadata": {
  "kernelspec": {
   "display_name": "Python 3 (ipykernel)",
   "language": "python",
   "name": "python3"
  },
  "language_info": {
   "codemirror_mode": {
    "name": "ipython",
    "version": 3
   },
   "file_extension": ".py",
   "mimetype": "text/x-python",
   "name": "python",
   "nbconvert_exporter": "python",
   "pygments_lexer": "ipython3",
   "version": "3.12.0"
  }
 },
 "nbformat": 4,
 "nbformat_minor": 5
}
