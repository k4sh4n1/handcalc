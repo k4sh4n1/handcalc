{
 "cells": [
  {
   "cell_type": "code",
   "execution_count": 18,
   "id": "ba40f6a4-f024-4ffc-ab6b-1c963c37f948",
   "metadata": {},
   "outputs": [],
   "source": [
    "import handcalcs.render\n",
    "import forallpeople\n",
    "forallpeople.environment('structural', top_level=True)"
   ]
  },
  {
   "cell_type": "markdown",
   "id": "80fb3c4c-1d40-4c13-98f6-71fe724614ba",
   "metadata": {},
   "source": [
    "# Definitions"
   ]
  },
  {
   "cell_type": "code",
   "execution_count": 17,
   "id": "8233dad1-50c1-49c6-894b-e0a3603ff242",
   "metadata": {
    "scrolled": true
   },
   "outputs": [
    {
     "data": {
      "text/latex": [
       "\\[\n",
       "\\begin{aligned}\n",
       "E &= 200.000\\ \\mathrm{GPa} \\; \n",
       "\\\\[10pt]\n",
       "\\epsilon &= 0.001 \\; \n",
       "\\\\[10pt]\n",
       "\\sigma &= E \\cdot \\epsilon  = 200.000\\ \\mathrm{GPa} \\cdot 0.001 &= 200.000\\ \\mathrm{MPa}  \n",
       "\\end{aligned}\n",
       "\\]"
      ],
      "text/plain": [
       "<IPython.core.display.Latex object>"
      ]
     },
     "metadata": {},
     "output_type": "display_data"
    }
   ],
   "source": [
    "%%render\n",
    "E = (2e5*MPa)\n",
    "epsilon = 0.001\n",
    "sigma = E * epsilon"
   ]
  },
  {
   "cell_type": "markdown",
   "id": "1aa06b9c-8978-4822-b126-6d72b4017e2d",
   "metadata": {},
   "source": [
    "![Ladder](media/ladder_problem.png)"
   ]
  },
  {
   "cell_type": "code",
   "execution_count": null,
   "id": "fad223f1-1f11-4558-818c-7734f3946c7a",
   "metadata": {},
   "outputs": [],
   "source": []
  }
 ],
 "metadata": {
  "kernelspec": {
   "display_name": "Python 3 (ipykernel)",
   "language": "python",
   "name": "python3"
  },
  "language_info": {
   "codemirror_mode": {
    "name": "ipython",
    "version": 3
   },
   "file_extension": ".py",
   "mimetype": "text/x-python",
   "name": "python",
   "nbconvert_exporter": "python",
   "pygments_lexer": "ipython3",
   "version": "3.11.9"
  }
 },
 "nbformat": 4,
 "nbformat_minor": 5
}
